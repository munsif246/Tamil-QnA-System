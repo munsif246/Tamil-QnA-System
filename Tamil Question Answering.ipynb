{
 "cells": [
  {
   "cell_type": "code",
   "execution_count": 1,
   "metadata": {
    "execution": {
     "iopub.execute_input": "2022-11-28T06:23:11.239473Z",
     "iopub.status.busy": "2022-11-28T06:23:11.239162Z",
     "iopub.status.idle": "2022-11-28T06:23:11.249203Z",
     "shell.execute_reply": "2022-11-28T06:23:11.247887Z",
     "shell.execute_reply.started": "2022-11-28T06:23:11.239396Z"
    }
   },
   "outputs": [],
   "source": [
    "import pandas as pd\n",
    "import numpy as np"
   ]
  },
  {
   "cell_type": "code",
   "execution_count": 6,
   "metadata": {
    "execution": {
     "iopub.execute_input": "2022-11-28T06:23:11.401648Z",
     "iopub.status.busy": "2022-11-28T06:23:11.401302Z",
     "iopub.status.idle": "2022-11-28T06:23:11.655174Z",
     "shell.execute_reply": "2022-11-28T06:23:11.654341Z",
     "shell.execute_reply.started": "2022-11-28T06:23:11.401590Z"
    }
   },
   "outputs": [
    {
     "data": {
      "text/html": [
       "<div>\n",
       "<style scoped>\n",
       "    .dataframe tbody tr th:only-of-type {\n",
       "        vertical-align: middle;\n",
       "    }\n",
       "\n",
       "    .dataframe tbody tr th {\n",
       "        vertical-align: top;\n",
       "    }\n",
       "\n",
       "    .dataframe thead th {\n",
       "        text-align: right;\n",
       "    }\n",
       "</style>\n",
       "<table border=\"1\" class=\"dataframe\">\n",
       "  <thead>\n",
       "    <tr style=\"text-align: right;\">\n",
       "      <th></th>\n",
       "      <th>id</th>\n",
       "      <th>context</th>\n",
       "      <th>question</th>\n",
       "      <th>answer_text</th>\n",
       "      <th>answer_start</th>\n",
       "      <th>language</th>\n",
       "    </tr>\n",
       "  </thead>\n",
       "  <tbody>\n",
       "    <tr>\n",
       "      <th>0</th>\n",
       "      <td>903deec17</td>\n",
       "      <td>ஒரு சாதாரண வளர்ந்த மனிதனுடைய எலும்புக்கூடு பின...</td>\n",
       "      <td>மனித உடலில் எத்தனை எலும்புகள் உள்ளன?</td>\n",
       "      <td>206</td>\n",
       "      <td>53</td>\n",
       "      <td>tamil</td>\n",
       "    </tr>\n",
       "    <tr>\n",
       "      <th>1</th>\n",
       "      <td>d9841668c</td>\n",
       "      <td>காளிதாசன் (தேவநாகரி: कालिदास) சமஸ்கிருத இலக்கி...</td>\n",
       "      <td>காளிதாசன் எங்கு பிறந்தார்?</td>\n",
       "      <td>காசுமீரில்</td>\n",
       "      <td>2358</td>\n",
       "      <td>tamil</td>\n",
       "    </tr>\n",
       "    <tr>\n",
       "      <th>2</th>\n",
       "      <td>29d154b56</td>\n",
       "      <td>சர் அலெக்ஸாண்டர் ஃபிளெமிங் (Sir Alexander Flem...</td>\n",
       "      <td>பென்சிலின் கண்டுபிடித்தவர் யார்?</td>\n",
       "      <td>சர் அலெக்ஸாண்டர் ஃபிளெமிங்</td>\n",
       "      <td>0</td>\n",
       "      <td>tamil</td>\n",
       "    </tr>\n",
       "    <tr>\n",
       "      <th>3</th>\n",
       "      <td>41660850a</td>\n",
       "      <td>குழந்தையின் அழுகையை  நிறுத்தவும், தூங்க வைக்கவ...</td>\n",
       "      <td>தமிழ்நாட்டில் குழந்தைகளை தூங்க வைக்க பாடும் பா...</td>\n",
       "      <td>தாலாட்டு</td>\n",
       "      <td>68</td>\n",
       "      <td>tamil</td>\n",
       "    </tr>\n",
       "    <tr>\n",
       "      <th>4</th>\n",
       "      <td>b29c82c22</td>\n",
       "      <td>சூரியக் குடும்பம் \\nசூரியக் குடும்பம் (Solar S...</td>\n",
       "      <td>பூமியின் அருகில் உள்ள விண்மீன் எது?</td>\n",
       "      <td>சூரியனும்</td>\n",
       "      <td>585</td>\n",
       "      <td>tamil</td>\n",
       "    </tr>\n",
       "  </tbody>\n",
       "</table>\n",
       "</div>"
      ],
      "text/plain": [
       "          id                                            context  \\\n",
       "0  903deec17  ஒரு சாதாரண வளர்ந்த மனிதனுடைய எலும்புக்கூடு பின...   \n",
       "1  d9841668c  காளிதாசன் (தேவநாகரி: कालिदास) சமஸ்கிருத இலக்கி...   \n",
       "2  29d154b56  சர் அலெக்ஸாண்டர் ஃபிளெமிங் (Sir Alexander Flem...   \n",
       "3  41660850a  குழந்தையின் அழுகையை  நிறுத்தவும், தூங்க வைக்கவ...   \n",
       "4  b29c82c22  சூரியக் குடும்பம் \\nசூரியக் குடும்பம் (Solar S...   \n",
       "\n",
       "                                            question  \\\n",
       "0               மனித உடலில் எத்தனை எலும்புகள் உள்ளன?   \n",
       "1                         காளிதாசன் எங்கு பிறந்தார்?   \n",
       "2                   பென்சிலின் கண்டுபிடித்தவர் யார்?   \n",
       "3  தமிழ்நாட்டில் குழந்தைகளை தூங்க வைக்க பாடும் பா...   \n",
       "4                பூமியின் அருகில் உள்ள விண்மீன் எது?   \n",
       "\n",
       "                  answer_text  answer_start language  \n",
       "0                         206            53    tamil  \n",
       "1                  காசுமீரில்          2358    tamil  \n",
       "2  சர் அலெக்ஸாண்டர் ஃபிளெமிங்             0    tamil  \n",
       "3                    தாலாட்டு            68    tamil  \n",
       "4                   சூரியனும்           585    tamil  "
      ]
     },
     "execution_count": 6,
     "metadata": {},
     "output_type": "execute_result"
    }
   ],
   "source": [
    "df = pd.read_csv('../input/tamil-df1/df_tamil1.csv',  index_col=[0])\n",
    "df.head()"
   ]
  },
  {
   "cell_type": "code",
   "execution_count": 7,
   "metadata": {
    "execution": {
     "iopub.execute_input": "2022-11-28T06:23:11.656797Z",
     "iopub.status.busy": "2022-11-28T06:23:11.656493Z",
     "iopub.status.idle": "2022-11-28T06:23:11.662808Z",
     "shell.execute_reply": "2022-11-28T06:23:11.662055Z",
     "shell.execute_reply.started": "2022-11-28T06:23:11.656764Z"
    }
   },
   "outputs": [
    {
     "data": {
      "text/plain": [
       "(368, 6)"
      ]
     },
     "execution_count": 7,
     "metadata": {},
     "output_type": "execute_result"
    }
   ],
   "source": [
    "df.shape"
   ]
  },
  {
   "cell_type": "code",
   "execution_count": 21,
   "metadata": {
    "execution": {
     "iopub.execute_input": "2022-11-28T06:23:27.129425Z",
     "iopub.status.busy": "2022-11-28T06:23:27.129155Z",
     "iopub.status.idle": "2022-11-28T06:23:27.134685Z",
     "shell.execute_reply": "2022-11-28T06:23:27.133685Z",
     "shell.execute_reply.started": "2022-11-28T06:23:27.129398Z"
    }
   },
   "outputs": [],
   "source": [
    "train = df.copy()"
   ]
  },
  {
   "cell_type": "code",
   "execution_count": 22,
   "metadata": {
    "execution": {
     "iopub.execute_input": "2022-11-28T06:23:27.644211Z",
     "iopub.status.busy": "2022-11-28T06:23:27.643803Z",
     "iopub.status.idle": "2022-11-28T06:23:27.657595Z",
     "shell.execute_reply": "2022-11-28T06:23:27.656648Z",
     "shell.execute_reply.started": "2022-11-28T06:23:27.644172Z"
    }
   },
   "outputs": [
    {
     "data": {
      "text/plain": [
       "tamil    368\n",
       "Name: language, dtype: int64"
      ]
     },
     "execution_count": 22,
     "metadata": {},
     "output_type": "execute_result"
    }
   ],
   "source": [
    "train.language.value_counts()"
   ]
  },
  {
   "cell_type": "code",
   "execution_count": 25,
   "metadata": {
    "execution": {
     "iopub.execute_input": "2022-11-28T06:23:31.091846Z",
     "iopub.status.busy": "2022-11-28T06:23:31.091513Z",
     "iopub.status.idle": "2022-11-28T06:23:31.096076Z",
     "shell.execute_reply": "2022-11-28T06:23:31.094726Z",
     "shell.execute_reply.started": "2022-11-28T06:23:31.091807Z"
    }
   },
   "outputs": [],
   "source": [
    "import transformers"
   ]
  },
  {
   "cell_type": "code",
   "execution_count": 26,
   "metadata": {
    "execution": {
     "iopub.execute_input": "2022-11-28T06:23:31.604566Z",
     "iopub.status.busy": "2022-11-28T06:23:31.604278Z",
     "iopub.status.idle": "2022-11-28T06:23:31.608471Z",
     "shell.execute_reply": "2022-11-28T06:23:31.607364Z",
     "shell.execute_reply.started": "2022-11-28T06:23:31.604539Z"
    }
   },
   "outputs": [],
   "source": [
    "#model_checkpoint = '../input/tamillion/Tamillion'\n",
    "#batch_size = 4"
   ]
  },
  {
   "cell_type": "code",
   "execution_count": 28,
   "metadata": {
    "execution": {
     "iopub.execute_input": "2022-11-28T06:23:51.302862Z",
     "iopub.status.busy": "2022-11-28T06:23:51.302547Z",
     "iopub.status.idle": "2022-11-28T06:23:51.306470Z",
     "shell.execute_reply": "2022-11-28T06:23:51.305591Z",
     "shell.execute_reply.started": "2022-11-28T06:23:51.302832Z"
    }
   },
   "outputs": [],
   "source": [
    "model_checkpoint = 'deepset/xlm-roberta-large-squad2'\n",
    "batch_size = 4"
   ]
  },
  {
   "cell_type": "code",
   "execution_count": 29,
   "metadata": {
    "execution": {
     "iopub.execute_input": "2022-11-28T06:23:52.492836Z",
     "iopub.status.busy": "2022-11-28T06:23:52.492524Z",
     "iopub.status.idle": "2022-11-28T06:23:58.515445Z",
     "shell.execute_reply": "2022-11-28T06:23:58.514567Z",
     "shell.execute_reply.started": "2022-11-28T06:23:52.492806Z"
    }
   },
   "outputs": [],
   "source": [
    "from transformers import AutoTokenizer\n",
    "    \n",
    "tokenizer = AutoTokenizer.from_pretrained(model_checkpoint)"
   ]
  },
  {
   "cell_type": "code",
   "execution_count": 32,
   "metadata": {
    "execution": {
     "iopub.execute_input": "2022-11-28T06:24:26.419791Z",
     "iopub.status.busy": "2022-11-28T06:24:26.419480Z",
     "iopub.status.idle": "2022-11-28T06:24:26.445286Z",
     "shell.execute_reply": "2022-11-28T06:24:26.444373Z",
     "shell.execute_reply.started": "2022-11-28T06:24:26.419759Z"
    }
   },
   "outputs": [
    {
     "name": "stderr",
     "output_type": "stream",
     "text": [
      "Token indices sequence length is longer than the specified maximum sequence length for this model (2316 > 512). Running this sequence through the model will result in indexing errors\n"
     ]
    },
    {
     "data": {
      "text/plain": [
       "dict_keys(['input_ids', 'attention_mask'])"
      ]
     },
     "execution_count": 32,
     "metadata": {},
     "output_type": "execute_result"
    }
   ],
   "source": [
    "tokenizer(train['context'][1]).keys()"
   ]
  },
  {
   "cell_type": "markdown",
   "metadata": {},
   "source": [
    "The input_ids are simply the numeric representations of the tokens. Attention_mask is useful when we add padding to the input tokens. The attention mask tells us which input_ids correspond to padding.  Padding is added because we want all the input sentences to be of the same length (at least for a batch) so that we are able to form tensor objects properly.\n",
    "\n",
    "We can now see what the attention_mask is all about: it points out which tokens the model should pay attention to and which ones it should not (because they represent padding in this case)."
   ]
  },
  {
   "cell_type": "code",
   "execution_count": 33,
   "metadata": {
    "execution": {
     "iopub.execute_input": "2022-11-28T06:24:32.253587Z",
     "iopub.status.busy": "2022-11-28T06:24:32.253259Z",
     "iopub.status.idle": "2022-11-28T06:24:42.128808Z",
     "shell.execute_reply": "2022-11-28T06:24:42.127896Z",
     "shell.execute_reply.started": "2022-11-28T06:24:32.253557Z"
    }
   },
   "outputs": [],
   "source": [
    "train['num_tokens_context'] = train['context'].apply(lambda t: len(tokenizer(t)['input_ids']))"
   ]
  },
  {
   "cell_type": "markdown",
   "metadata": {},
   "source": [
    "Looks like the context can get pretty long, so we'll need to divide it into pieces before processing. "
   ]
  },
  {
   "cell_type": "code",
   "execution_count": 34,
   "metadata": {
    "execution": {
     "iopub.execute_input": "2022-11-28T06:24:42.130846Z",
     "iopub.status.busy": "2022-11-28T06:24:42.130468Z",
     "iopub.status.idle": "2022-11-28T06:24:42.425244Z",
     "shell.execute_reply": "2022-11-28T06:24:42.424444Z",
     "shell.execute_reply.started": "2022-11-28T06:24:42.130802Z"
    }
   },
   "outputs": [
    {
     "data": {
      "text/plain": [
       "<AxesSubplot:>"
      ]
     },
     "execution_count": 34,
     "metadata": {},
     "output_type": "execute_result"
    },
    {
     "data": {
      "image/png": "[encoded data removed]",
      "text/plain": [
       "<Figure size 432x288 with 1 Axes>"
      ]
     },
     "metadata": {
      "needs_background": "light"
     },
     "output_type": "display_data"
    }
   ],
   "source": [
    "train['num_tokens_context'].hist()"
   ]
  },
  {
   "cell_type": "code",
   "execution_count": 35,
   "metadata": {
    "execution": {
     "iopub.execute_input": "2022-11-28T06:24:42.427335Z",
     "iopub.status.busy": "2022-11-28T06:24:42.426991Z",
     "iopub.status.idle": "2022-11-28T06:24:42.432938Z",
     "shell.execute_reply": "2022-11-28T06:24:42.432135Z",
     "shell.execute_reply.started": "2022-11-28T06:24:42.427297Z"
    }
   },
   "outputs": [
    {
     "data": {
      "text/plain": [
       "14011"
      ]
     },
     "execution_count": 35,
     "metadata": {},
     "output_type": "execute_result"
    }
   ],
   "source": [
    "max(train['num_tokens_context'])"
   ]
  },
  {
   "cell_type": "code",
   "execution_count": 36,
   "metadata": {
    "execution": {
     "iopub.execute_input": "2022-11-28T06:24:42.435253Z",
     "iopub.status.busy": "2022-11-28T06:24:42.434692Z",
     "iopub.status.idle": "2022-11-28T06:24:42.442119Z",
     "shell.execute_reply": "2022-11-28T06:24:42.441219Z",
     "shell.execute_reply.started": "2022-11-28T06:24:42.435217Z"
    }
   },
   "outputs": [],
   "source": [
    "max_length = 384\n",
    "doc_stride = 128 "
   ]
  },
  {
   "cell_type": "code",
   "execution_count": 37,
   "metadata": {
    "execution": {
     "iopub.execute_input": "2022-11-28T06:24:42.443672Z",
     "iopub.status.busy": "2022-11-28T06:24:42.443327Z",
     "iopub.status.idle": "2022-11-28T06:24:42.451954Z",
     "shell.execute_reply": "2022-11-28T06:24:42.451134Z",
     "shell.execute_reply.started": "2022-11-28T06:24:42.443635Z"
    }
   },
   "outputs": [],
   "source": [
    "pad_on_right = tokenizer.padding_side == \"right\""
   ]
  },
  {
   "cell_type": "code",
   "execution_count": 38,
   "metadata": {
    "execution": {
     "iopub.execute_input": "2022-11-28T06:24:42.453531Z",
     "iopub.status.busy": "2022-11-28T06:24:42.453169Z",
     "iopub.status.idle": "2022-11-28T06:24:42.463821Z",
     "shell.execute_reply": "2022-11-28T06:24:42.463060Z",
     "shell.execute_reply.started": "2022-11-28T06:24:42.453492Z"
    }
   },
   "outputs": [
    {
     "data": {
      "text/plain": [
       "True"
      ]
     },
     "execution_count": 38,
     "metadata": {},
     "output_type": "execute_result"
    }
   ],
   "source": [
    "pad_on_right"
   ]
  },
  {
   "cell_type": "code",
   "execution_count": 39,
   "metadata": {
    "execution": {
     "iopub.execute_input": "2022-11-28T06:24:42.465617Z",
     "iopub.status.busy": "2022-11-28T06:24:42.465245Z",
     "iopub.status.idle": "2022-11-28T06:24:42.478666Z",
     "shell.execute_reply": "2022-11-28T06:24:42.477883Z",
     "shell.execute_reply.started": "2022-11-28T06:24:42.465572Z"
    }
   },
   "outputs": [],
   "source": [
    "def prepare_train_features(examples):\n",
    "   \n",
    "    examples[\"question\"] = [q.lstrip() for q in examples[\"question\"]]\n",
    "    tokenized_examples = tokenizer(\n",
    "        examples[\"question\" if pad_on_right else \"context\"],\n",
    "        examples[\"context\" if pad_on_right else \"question\"],\n",
    "        truncation=\"only_second\" if pad_on_right else \"only_first\",\n",
    "        max_length=max_length,\n",
    "        stride=doc_stride,\n",
    "        return_overflowing_tokens=True,\n",
    "        return_offsets_mapping=True,\n",
    "        padding=\"max_length\",\n",
    "    )\n",
    "\n",
    "\n",
    "    sample_mapping = tokenized_examples.pop(\"overflow_to_sample_mapping\")\n",
    ".\n",
    "    offset_mapping = tokenized_examples.pop(\"offset_mapping\")\n",
    "\n",
    "    tokenized_examples[\"start_positions\"] = []\n",
    "    tokenized_examples[\"end_positions\"] = []\n",
    "\n",
    "    for i, offsets in enumerate(offset_mapping):\n",
    "        input_ids = tokenized_examples[\"input_ids\"][i]\n",
    "        cls_index = input_ids.index(tokenizer.cls_token_id)\n",
    "\n",
    "        sequence_ids = tokenized_examples.sequence_ids(i)\n",
    "\n",
    "        sample_index = sample_mapping[i]\n",
    "        answers = examples[\"answers\"][sample_index]\n",
    "    \n",
    "        if len(answers[\"answer_start\"]) == 0:\n",
    "            tokenized_examples[\"start_positions\"].append(cls_index)\n",
    "            tokenized_examples[\"end_positions\"].append(cls_index)\n",
    "        else:\n",
    "            \n",
    "            start_char = answers[\"answer_start\"][0]\n",
    "            end_char = start_char + len(answers[\"text\"][0])\n",
    "\n",
    "           \n",
    "            token_start_index = 0\n",
    "            while sequence_ids[token_start_index] != (1 if pad_on_right else 0):\n",
    "                token_start_index += 1\n",
    "\n",
    "           .\n",
    "            token_end_index = len(input_ids) - 1\n",
    "            while sequence_ids[token_end_index] != (1 if pad_on_right else 0):\n",
    "                token_end_index -= 1\n",
    ".\n",
    "            if not (offsets[token_start_index][0] <= start_char and offsets[token_end_index][1] >= end_char):\n",
    "                tokenized_examples[\"start_positions\"].append(cls_index)\n",
    "                tokenized_examples[\"end_positions\"].append(cls_index)\n",
    "            else:\n",
    "                \n",
    "                while token_start_index < len(offsets) and offsets[token_start_index][0] <= start_char:\n",
    "                    token_start_index += 1\n",
    "                tokenized_examples[\"start_positions\"].append(token_start_index - 1)\n",
    "                while offsets[token_end_index][1] >= end_char:\n",
    "                    token_end_index -= 1\n",
    "                tokenized_examples[\"end_positions\"].append(token_end_index + 1)\n",
    "\n",
    "    return tokenized_examples"
   ]
  },
  {
   "cell_type": "code",
   "execution_count": 40,
   "metadata": {
    "execution": {
     "iopub.execute_input": "2022-11-28T06:24:44.841898Z",
     "iopub.status.busy": "2022-11-28T06:24:44.841574Z",
     "iopub.status.idle": "2022-11-28T06:24:54.185109Z",
     "shell.execute_reply": "2022-11-28T06:24:54.184096Z",
     "shell.execute_reply.started": "2022-11-28T06:24:44.841865Z"
    }
   },
   "outputs": [
    {
     "name": "stdout",
     "output_type": "stream",
     "text": [
      "\u001b[31mERROR: pip's dependency resolver does not currently take into account all the packages that are installed. This behaviour is the source of the following dependency conflicts.\n",
      "tensorflow-cloud 0.1.13 requires tensorflow<3.0,>=1.15.0, which is not installed.\n",
      "dask-cudf 21.6.1+2.g101fc0fda4 requires cupy-cuda112, which is not installed.\n",
      "cudf 21.6.1+2.g101fc0fda4 requires cupy-cuda110, which is not installed.\n",
      "s3fs 2021.6.1 requires fsspec==2021.06.1, but you have fsspec 2021.6.0 which is incompatible.\n",
      "pytorch-lightning 1.3.8 requires fsspec[http]!=2021.06.0,>=2021.05.0, but you have fsspec 2021.6.0 which is incompatible.\n",
      "dask-cudf 21.6.1+2.g101fc0fda4 requires dask<=2021.5.1,>=2021.4.0, but you have dask 2021.6.2 which is incompatible.\n",
      "dask-cudf 21.6.1+2.g101fc0fda4 requires distributed<=2021.5.1,>=2.22.0, but you have distributed 2021.6.2 which is incompatible.\u001b[0m\n"
     ]
    }
   ],
   "source": [
    "!pip uninstall fsspec -qq -y\n",
    "!pip install --no-index --find-links ../input/hf-datasets/wheels datasets -qq"
   ]
  },
  {
   "cell_type": "code",
   "execution_count": 41,
   "metadata": {
    "execution": {
     "iopub.execute_input": "2022-11-28T06:24:54.188798Z",
     "iopub.status.busy": "2022-11-28T06:24:54.188523Z",
     "iopub.status.idle": "2022-11-28T06:24:54.616200Z",
     "shell.execute_reply": "2022-11-28T06:24:54.615355Z",
     "shell.execute_reply.started": "2022-11-28T06:24:54.188767Z"
    }
   },
   "outputs": [],
   "source": [
    "from datasets import Dataset"
   ]
  },
  {
   "cell_type": "code",
   "execution_count": 42,
   "metadata": {
    "execution": {
     "iopub.execute_input": "2022-11-28T06:24:54.618360Z",
     "iopub.status.busy": "2022-11-28T06:24:54.618027Z",
     "iopub.status.idle": "2022-11-28T06:24:54.623553Z",
     "shell.execute_reply": "2022-11-28T06:24:54.622606Z",
     "shell.execute_reply.started": "2022-11-28T06:24:54.618315Z"
    }
   },
   "outputs": [],
   "source": [
    "def convert_answers(r):\n",
    "    start = r[0]\n",
    "    text = r[1]\n",
    "    return {\n",
    "        'answer_start': [start],\n",
    "        'text': [text]\n",
    "    }"
   ]
  },
  {
   "cell_type": "code",
   "execution_count": 43,
   "metadata": {
    "execution": {
     "iopub.execute_input": "2022-11-28T06:24:54.625763Z",
     "iopub.status.busy": "2022-11-28T06:24:54.625367Z",
     "iopub.status.idle": "2022-11-28T06:24:54.645299Z",
     "shell.execute_reply": "2022-11-28T06:24:54.644598Z",
     "shell.execute_reply.started": "2022-11-28T06:24:54.625727Z"
    }
   },
   "outputs": [],
   "source": [
    "train = train.sample(frac=1, random_state=42)\n",
    "train['answers'] = train[['answer_start', 'answer_text']].apply(convert_answers, axis=1)"
   ]
  },
  {
   "cell_type": "code",
   "execution_count": 44,
   "metadata": {
    "execution": {
     "iopub.execute_input": "2022-11-28T06:24:54.646733Z",
     "iopub.status.busy": "2022-11-28T06:24:54.646406Z",
     "iopub.status.idle": "2022-11-28T06:24:54.665441Z",
     "shell.execute_reply": "2022-11-28T06:24:54.664619Z",
     "shell.execute_reply.started": "2022-11-28T06:24:54.646700Z"
    }
   },
   "outputs": [
    {
     "data": {
      "text/html": [
       "<div>\n",
       "<style scoped>\n",
       "    .dataframe tbody tr th:only-of-type {\n",
       "        vertical-align: middle;\n",
       "    }\n",
       "\n",
       "    .dataframe tbody tr th {\n",
       "        vertical-align: top;\n",
       "    }\n",
       "\n",
       "    .dataframe thead th {\n",
       "        text-align: right;\n",
       "    }\n",
       "</style>\n",
       "<table border=\"1\" class=\"dataframe\">\n",
       "  <thead>\n",
       "    <tr style=\"text-align: right;\">\n",
       "      <th></th>\n",
       "      <th>id</th>\n",
       "      <th>context</th>\n",
       "      <th>question</th>\n",
       "      <th>answer_text</th>\n",
       "      <th>answer_start</th>\n",
       "      <th>language</th>\n",
       "      <th>num_tokens_context</th>\n",
       "      <th>answers</th>\n",
       "    </tr>\n",
       "  </thead>\n",
       "  <tbody>\n",
       "    <tr>\n",
       "      <th>165</th>\n",
       "      <td>83f5c039a</td>\n",
       "      <td>மைக்ரோசாப்ட் நிறுவனம்(Microsoft Corporation) அ...</td>\n",
       "      <td>மைக்ரோசாப்ட் நிறுவனம் யாரால் நிறுவப்பட்டது?</td>\n",
       "      <td>பில் கேட்சும் பவுல் ஆல்லெனும்</td>\n",
       "      <td>396</td>\n",
       "      <td>tamil</td>\n",
       "      <td>1250</td>\n",
       "      <td>{'answer_start': [396], 'text': ['பில் கேட்சும...</td>\n",
       "    </tr>\n",
       "    <tr>\n",
       "      <th>33</th>\n",
       "      <td>4b69614bc</td>\n",
       "      <td>விலங்குகள் (Animals), அனிமாலியா (Animalia) அல்...</td>\n",
       "      <td>உருளைப்புழு எந்த தொகுதியை சேர்ந்தது?</td>\n",
       "      <td>நெமடோடா</td>\n",
       "      <td>12028</td>\n",
       "      <td>tamil</td>\n",
       "      <td>5441</td>\n",
       "      <td>{'answer_start': [12028], 'text': ['நெமடோடா']}</td>\n",
       "    </tr>\n",
       "    <tr>\n",
       "      <th>15</th>\n",
       "      <td>873ee70ee</td>\n",
       "      <td>சாக்கிரட்டீசு (Socrates)  (கி.மு 470/469 – கி....</td>\n",
       "      <td>சாக்கிரட்டீசு எப்போது பிறந்தார்?</td>\n",
       "      <td>கி.மு. ஐந்தாம் நூற்றாண்டில்</td>\n",
       "      <td>2905</td>\n",
       "      <td>tamil</td>\n",
       "      <td>2743</td>\n",
       "      <td>{'answer_start': [2905], 'text': ['கி.மு. ஐந்த...</td>\n",
       "    </tr>\n",
       "    <tr>\n",
       "      <th>312</th>\n",
       "      <td>7bea4014a</td>\n",
       "      <td>பனை (Palmyra Palm), புல்லினத்தைச் சேர்ந்த ஒரு ...</td>\n",
       "      <td>பனை மரத்தின் அறிவியல் பெயர் என்ன?</td>\n",
       "      <td>போரசசு</td>\n",
       "      <td>91</td>\n",
       "      <td>tamil</td>\n",
       "      <td>2847</td>\n",
       "      <td>{'answer_start': [91], 'text': ['போரசசு']}</td>\n",
       "    </tr>\n",
       "    <tr>\n",
       "      <th>57</th>\n",
       "      <td>ecc19a740</td>\n",
       "      <td>நோபெல் பரிசு (Nobel Prize) அல்லது நோபல் பரிசு ...</td>\n",
       "      <td>நோபல் பரிசு எந்த ஆண்டு முதல் முதலில் வழங்கப்பட...</td>\n",
       "      <td>1901</td>\n",
       "      <td>557</td>\n",
       "      <td>tamil</td>\n",
       "      <td>3933</td>\n",
       "      <td>{'answer_start': [557], 'text': ['1901']}</td>\n",
       "    </tr>\n",
       "  </tbody>\n",
       "</table>\n",
       "</div>"
      ],
      "text/plain": [
       "            id                                            context  \\\n",
       "165  83f5c039a  மைக்ரோசாப்ட் நிறுவனம்(Microsoft Corporation) அ...   \n",
       "33   4b69614bc  விலங்குகள் (Animals), அனிமாலியா (Animalia) அல்...   \n",
       "15   873ee70ee  சாக்கிரட்டீசு (Socrates)  (கி.மு 470/469 – கி....   \n",
       "312  7bea4014a  பனை (Palmyra Palm), புல்லினத்தைச் சேர்ந்த ஒரு ...   \n",
       "57   ecc19a740  நோபெல் பரிசு (Nobel Prize) அல்லது நோபல் பரிசு ...   \n",
       "\n",
       "                                              question  \\\n",
       "165        மைக்ரோசாப்ட் நிறுவனம் யாரால் நிறுவப்பட்டது?   \n",
       "33                உருளைப்புழு எந்த தொகுதியை சேர்ந்தது?   \n",
       "15                    சாக்கிரட்டீசு எப்போது பிறந்தார்?   \n",
       "312                  பனை மரத்தின் அறிவியல் பெயர் என்ன?   \n",
       "57   நோபல் பரிசு எந்த ஆண்டு முதல் முதலில் வழங்கப்பட...   \n",
       "\n",
       "                       answer_text  answer_start language  num_tokens_context  \\\n",
       "165  பில் கேட்சும் பவுல் ஆல்லெனும்           396    tamil                1250   \n",
       "33                         நெமடோடா         12028    tamil                5441   \n",
       "15     கி.மு. ஐந்தாம் நூற்றாண்டில்          2905    tamil                2743   \n",
       "312                         போரசசு            91    tamil                2847   \n",
       "57                            1901           557    tamil                3933   \n",
       "\n",
       "                                               answers  \n",
       "165  {'answer_start': [396], 'text': ['பில் கேட்சும...  \n",
       "33      {'answer_start': [12028], 'text': ['நெமடோடா']}  \n",
       "15   {'answer_start': [2905], 'text': ['கி.மு. ஐந்த...  \n",
       "312         {'answer_start': [91], 'text': ['போரசசு']}  \n",
       "57           {'answer_start': [557], 'text': ['1901']}  "
      ]
     },
     "execution_count": 44,
     "metadata": {},
     "output_type": "execute_result"
    }
   ],
   "source": [
    "train.head()"
   ]
  },
  {
   "cell_type": "code",
   "execution_count": 45,
   "metadata": {
    "execution": {
     "iopub.execute_input": "2022-11-28T06:24:54.667302Z",
     "iopub.status.busy": "2022-11-28T06:24:54.666737Z",
     "iopub.status.idle": "2022-11-28T06:24:54.674206Z",
     "shell.execute_reply": "2022-11-28T06:24:54.673464Z",
     "shell.execute_reply.started": "2022-11-28T06:24:54.667255Z"
    }
   },
   "outputs": [],
   "source": [
    "df_train = train[:-64].reset_index(drop=True)\n",
    "df_valid = train[-64:].reset_index(drop=True)"
   ]
  },
  {
   "cell_type": "code",
   "execution_count": 46,
   "metadata": {
    "execution": {
     "iopub.execute_input": "2022-11-28T06:24:54.675790Z",
     "iopub.status.busy": "2022-11-28T06:24:54.675391Z",
     "iopub.status.idle": "2022-11-28T06:24:54.695650Z",
     "shell.execute_reply": "2022-11-28T06:24:54.694793Z",
     "shell.execute_reply.started": "2022-11-28T06:24:54.675756Z"
    }
   },
   "outputs": [
    {
     "data": {
      "text/html": [
       "<div>\n",
       "<style scoped>\n",
       "    .dataframe tbody tr th:only-of-type {\n",
       "        vertical-align: middle;\n",
       "    }\n",
       "\n",
       "    .dataframe tbody tr th {\n",
       "        vertical-align: top;\n",
       "    }\n",
       "\n",
       "    .dataframe thead th {\n",
       "        text-align: right;\n",
       "    }\n",
       "</style>\n",
       "<table border=\"1\" class=\"dataframe\">\n",
       "  <thead>\n",
       "    <tr style=\"text-align: right;\">\n",
       "      <th></th>\n",
       "      <th>id</th>\n",
       "      <th>context</th>\n",
       "      <th>question</th>\n",
       "      <th>answer_text</th>\n",
       "      <th>answer_start</th>\n",
       "      <th>language</th>\n",
       "      <th>num_tokens_context</th>\n",
       "      <th>answers</th>\n",
       "    </tr>\n",
       "  </thead>\n",
       "  <tbody>\n",
       "    <tr>\n",
       "      <th>0</th>\n",
       "      <td>83f5c039a</td>\n",
       "      <td>மைக்ரோசாப்ட் நிறுவனம்(Microsoft Corporation) அ...</td>\n",
       "      <td>மைக்ரோசாப்ட் நிறுவனம் யாரால் நிறுவப்பட்டது?</td>\n",
       "      <td>பில் கேட்சும் பவுல் ஆல்லெனும்</td>\n",
       "      <td>396</td>\n",
       "      <td>tamil</td>\n",
       "      <td>1250</td>\n",
       "      <td>{'answer_start': [396], 'text': ['பில் கேட்சும...</td>\n",
       "    </tr>\n",
       "    <tr>\n",
       "      <th>1</th>\n",
       "      <td>4b69614bc</td>\n",
       "      <td>விலங்குகள் (Animals), அனிமாலியா (Animalia) அல்...</td>\n",
       "      <td>உருளைப்புழு எந்த தொகுதியை சேர்ந்தது?</td>\n",
       "      <td>நெமடோடா</td>\n",
       "      <td>12028</td>\n",
       "      <td>tamil</td>\n",
       "      <td>5441</td>\n",
       "      <td>{'answer_start': [12028], 'text': ['நெமடோடா']}</td>\n",
       "    </tr>\n",
       "    <tr>\n",
       "      <th>2</th>\n",
       "      <td>873ee70ee</td>\n",
       "      <td>சாக்கிரட்டீசு (Socrates)  (கி.மு 470/469 – கி....</td>\n",
       "      <td>சாக்கிரட்டீசு எப்போது பிறந்தார்?</td>\n",
       "      <td>கி.மு. ஐந்தாம் நூற்றாண்டில்</td>\n",
       "      <td>2905</td>\n",
       "      <td>tamil</td>\n",
       "      <td>2743</td>\n",
       "      <td>{'answer_start': [2905], 'text': ['கி.மு. ஐந்த...</td>\n",
       "    </tr>\n",
       "    <tr>\n",
       "      <th>3</th>\n",
       "      <td>7bea4014a</td>\n",
       "      <td>பனை (Palmyra Palm), புல்லினத்தைச் சேர்ந்த ஒரு ...</td>\n",
       "      <td>பனை மரத்தின் அறிவியல் பெயர் என்ன?</td>\n",
       "      <td>போரசசு</td>\n",
       "      <td>91</td>\n",
       "      <td>tamil</td>\n",
       "      <td>2847</td>\n",
       "      <td>{'answer_start': [91], 'text': ['போரசசு']}</td>\n",
       "    </tr>\n",
       "    <tr>\n",
       "      <th>4</th>\n",
       "      <td>ecc19a740</td>\n",
       "      <td>நோபெல் பரிசு (Nobel Prize) அல்லது நோபல் பரிசு ...</td>\n",
       "      <td>நோபல் பரிசு எந்த ஆண்டு முதல் முதலில் வழங்கப்பட...</td>\n",
       "      <td>1901</td>\n",
       "      <td>557</td>\n",
       "      <td>tamil</td>\n",
       "      <td>3933</td>\n",
       "      <td>{'answer_start': [557], 'text': ['1901']}</td>\n",
       "    </tr>\n",
       "  </tbody>\n",
       "</table>\n",
       "</div>"
      ],
      "text/plain": [
       "          id                                            context  \\\n",
       "0  83f5c039a  மைக்ரோசாப்ட் நிறுவனம்(Microsoft Corporation) அ...   \n",
       "1  4b69614bc  விலங்குகள் (Animals), அனிமாலியா (Animalia) அல்...   \n",
       "2  873ee70ee  சாக்கிரட்டீசு (Socrates)  (கி.மு 470/469 – கி....   \n",
       "3  7bea4014a  பனை (Palmyra Palm), புல்லினத்தைச் சேர்ந்த ஒரு ...   \n",
       "4  ecc19a740  நோபெல் பரிசு (Nobel Prize) அல்லது நோபல் பரிசு ...   \n",
       "\n",
       "                                            question  \\\n",
       "0        மைக்ரோசாப்ட் நிறுவனம் யாரால் நிறுவப்பட்டது?   \n",
       "1               உருளைப்புழு எந்த தொகுதியை சேர்ந்தது?   \n",
       "2                   சாக்கிரட்டீசு எப்போது பிறந்தார்?   \n",
       "3                  பனை மரத்தின் அறிவியல் பெயர் என்ன?   \n",
       "4  நோபல் பரிசு எந்த ஆண்டு முதல் முதலில் வழங்கப்பட...   \n",
       "\n",
       "                     answer_text  answer_start language  num_tokens_context  \\\n",
       "0  பில் கேட்சும் பவுல் ஆல்லெனும்           396    tamil                1250   \n",
       "1                        நெமடோடா         12028    tamil                5441   \n",
       "2    கி.மு. ஐந்தாம் நூற்றாண்டில்          2905    tamil                2743   \n",
       "3                         போரசசு            91    tamil                2847   \n",
       "4                           1901           557    tamil                3933   \n",
       "\n",
       "                                             answers  \n",
       "0  {'answer_start': [396], 'text': ['பில் கேட்சும...  \n",
       "1     {'answer_start': [12028], 'text': ['நெமடோடா']}  \n",
       "2  {'answer_start': [2905], 'text': ['கி.மு. ஐந்த...  \n",
       "3         {'answer_start': [91], 'text': ['போரசசு']}  \n",
       "4          {'answer_start': [557], 'text': ['1901']}  "
      ]
     },
     "execution_count": 46,
     "metadata": {},
     "output_type": "execute_result"
    }
   ],
   "source": [
    "df_train.head()"
   ]
  },
  {
   "cell_type": "code",
   "execution_count": 47,
   "metadata": {
    "execution": {
     "iopub.execute_input": "2022-11-28T06:24:54.811400Z",
     "iopub.status.busy": "2022-11-28T06:24:54.811143Z",
     "iopub.status.idle": "2022-11-28T06:24:54.863391Z",
     "shell.execute_reply": "2022-11-28T06:24:54.862610Z",
     "shell.execute_reply.started": "2022-11-28T06:24:54.811375Z"
    }
   },
   "outputs": [],
   "source": [
    "train_dataset = Dataset.from_pandas(df_train)\n",
    "valid_dataset = Dataset.from_pandas(df_valid)"
   ]
  },
  {
   "cell_type": "code",
   "execution_count": 48,
   "metadata": {
    "execution": {
     "iopub.execute_input": "2022-11-28T06:25:03.056705Z",
     "iopub.status.busy": "2022-11-28T06:25:03.056356Z",
     "iopub.status.idle": "2022-11-28T06:25:03.062623Z",
     "shell.execute_reply": "2022-11-28T06:25:03.061747Z",
     "shell.execute_reply.started": "2022-11-28T06:25:03.056668Z"
    }
   },
   "outputs": [
    {
     "data": {
      "text/plain": [
       "Dataset({\n",
       "    features: ['id', 'context', 'question', 'answer_text', 'answer_start', 'language', 'num_tokens_context', 'answers'],\n",
       "    num_rows: 304\n",
       "})"
      ]
     },
     "execution_count": 48,
     "metadata": {},
     "output_type": "execute_result"
    }
   ],
   "source": [
    "train_dataset"
   ]
  },
  {
   "cell_type": "code",
   "execution_count": 49,
   "metadata": {
    "execution": {
     "iopub.execute_input": "2022-11-28T06:25:04.604471Z",
     "iopub.status.busy": "2022-11-28T06:25:04.604151Z",
     "iopub.status.idle": "2022-11-28T06:25:16.149986Z",
     "shell.execute_reply": "2022-11-28T06:25:16.149183Z",
     "shell.execute_reply.started": "2022-11-28T06:25:04.604441Z"
    }
   },
   "outputs": [
    {
     "data": {
      "application/vnd.jupyter.widget-view+json": {
       "model_id": "5071261fbcc947df917598cd67666f3e",
       "version_major": 2,
       "version_minor": 0
      },
      "text/plain": [
       "  0%|          | 0/1 [00:00<?, ?ba/s]"
      ]
     },
     "metadata": {},
     "output_type": "display_data"
    },
    {
     "data": {
      "application/vnd.jupyter.widget-view+json": {
       "model_id": "9548b3e499f24f158c9a12bb4565af78",
       "version_major": 2,
       "version_minor": 0
      },
      "text/plain": [
       "  0%|          | 0/1 [00:00<?, ?ba/s]"
      ]
     },
     "metadata": {},
     "output_type": "display_data"
    }
   ],
   "source": [
    "tokenized_train_ds = train_dataset.map(prepare_train_features, batched=True, remove_columns=train_dataset.column_names)\n",
    "tokenized_valid_ds = valid_dataset.map(prepare_train_features, batched=True, remove_columns=train_dataset.column_names)"
   ]
  },
  {
   "cell_type": "code",
   "execution_count": 50,
   "metadata": {
    "execution": {
     "iopub.execute_input": "2022-11-28T06:25:16.151779Z",
     "iopub.status.busy": "2022-11-28T06:25:16.151435Z",
     "iopub.status.idle": "2022-11-28T06:25:16.772712Z",
     "shell.execute_reply": "2022-11-28T06:25:16.771870Z",
     "shell.execute_reply.started": "2022-11-28T06:25:16.151741Z"
    }
   },
   "outputs": [
    {
     "data": {
      "text/plain": [
       "4628"
      ]
     },
     "execution_count": 50,
     "metadata": {},
     "output_type": "execute_result"
    }
   ],
   "source": [
    "len(tokenized_train_ds['input_ids'])"
   ]
  },
  {
   "cell_type": "code",
   "execution_count": 51,
   "metadata": {
    "execution": {
     "iopub.execute_input": "2022-11-28T06:25:16.774813Z",
     "iopub.status.busy": "2022-11-28T06:25:16.774457Z",
     "iopub.status.idle": "2022-11-28T06:25:16.783715Z",
     "shell.execute_reply": "2022-11-28T06:25:16.782778Z",
     "shell.execute_reply.started": "2022-11-28T06:25:16.774774Z"
    }
   },
   "outputs": [
    {
     "data": {
      "text/plain": [
       "(0, 0)"
      ]
     },
     "execution_count": 51,
     "metadata": {},
     "output_type": "execute_result"
    }
   ],
   "source": [
    "tokenized_train_ds['start_positions'][1],tokenized_train_ds['end_positions'][1]"
   ]
  },
  {
   "cell_type": "code",
   "execution_count": 52,
   "metadata": {
    "execution": {
     "iopub.execute_input": "2022-11-28T06:25:16.785791Z",
     "iopub.status.busy": "2022-11-28T06:25:16.785237Z",
     "iopub.status.idle": "2022-11-28T06:25:24.529270Z",
     "shell.execute_reply": "2022-11-28T06:25:24.528347Z",
     "shell.execute_reply.started": "2022-11-28T06:25:16.785754Z"
    }
   },
   "outputs": [],
   "source": [
    "from transformers import AutoModelForQuestionAnswering, TrainingArguments, Trainer\n",
    "\n",
    "model = AutoModelForQuestionAnswering.from_pretrained(model_checkpoint)"
   ]
  },
  {
   "cell_type": "code",
   "execution_count": 53,
   "metadata": {
    "execution": {
     "iopub.execute_input": "2022-11-28T06:25:24.530933Z",
     "iopub.status.busy": "2022-11-28T06:25:24.530594Z",
     "iopub.status.idle": "2022-11-28T06:25:24.536301Z",
     "shell.execute_reply": "2022-11-28T06:25:24.535356Z",
     "shell.execute_reply.started": "2022-11-28T06:25:24.530896Z"
    }
   },
   "outputs": [
    {
     "name": "stdout",
     "output_type": "stream",
     "text": [
      "env: WANDB_DISABLED=True\n"
     ]
    }
   ],
   "source": [
    "%env WANDB_DISABLED=True"
   ]
  },
  {
   "cell_type": "code",
   "execution_count": 54,
   "metadata": {
    "execution": {
     "iopub.execute_input": "2022-11-28T06:25:24.538629Z",
     "iopub.status.busy": "2022-11-28T06:25:24.538088Z",
     "iopub.status.idle": "2022-11-28T06:25:24.612546Z",
     "shell.execute_reply": "2022-11-28T06:25:24.611606Z",
     "shell.execute_reply.started": "2022-11-28T06:25:24.538593Z"
    }
   },
   "outputs": [
    {
     "name": "stderr",
     "output_type": "stream",
     "text": [
      "Using the `WAND_DISABLED` environment variable is deprecated and will be removed in v5. Use the --report_to flag to control the integrations used for logging result (for instance --report_to none).\n"
     ]
    }
   ],
   "source": [
    "args = TrainingArguments(\n",
    "    f\"chaii-qa\",\n",
    "    evaluation_strategy = \"epoch\",\n",
    "    save_strategy = \"epoch\",\n",
    "    learning_rate=1e-5,\n",
    "    warmup_ratio=0.1,\n",
    "    gradient_accumulation_steps=8,\n",
    "    per_device_train_batch_size=batch_size,\n",
    "    per_device_eval_batch_size=batch_size,\n",
    "    num_train_epochs=1,\n",
    "    weight_decay=0.01,\n",
    ")"
   ]
  },
  {
   "cell_type": "code",
   "execution_count": 55,
   "metadata": {
    "execution": {
     "iopub.execute_input": "2022-11-28T06:25:24.614180Z",
     "iopub.status.busy": "2022-11-28T06:25:24.613839Z",
     "iopub.status.idle": "2022-11-28T06:25:24.619350Z",
     "shell.execute_reply": "2022-11-28T06:25:24.617144Z",
     "shell.execute_reply.started": "2022-11-28T06:25:24.614149Z"
    }
   },
   "outputs": [],
   "source": [
    "from transformers import default_data_collator\n",
    "\n",
    "data_collator = default_data_collator"
   ]
  },
  {
   "cell_type": "code",
   "execution_count": 56,
   "metadata": {
    "execution": {
     "iopub.execute_input": "2022-11-28T06:25:24.621320Z",
     "iopub.status.busy": "2022-11-28T06:25:24.620769Z",
     "iopub.status.idle": "2022-11-28T06:25:32.181142Z",
     "shell.execute_reply": "2022-11-28T06:25:32.180299Z",
     "shell.execute_reply.started": "2022-11-28T06:25:24.621270Z"
    }
   },
   "outputs": [],
   "source": [
    "trainer = Trainer(\n",
    "    model,\n",
    "    args,\n",
    "    train_dataset=tokenized_train_ds,\n",
    "    eval_dataset=tokenized_valid_ds,\n",
    "    data_collator=data_collator,\n",
    "    tokenizer=tokenizer,\n",
    ")"
   ]
  },
  {
   "cell_type": "code",
   "execution_count": 57,
   "metadata": {
    "execution": {
     "iopub.execute_input": "2022-11-28T06:25:32.182636Z",
     "iopub.status.busy": "2022-11-28T06:25:32.182308Z",
     "iopub.status.idle": "2022-11-28T06:37:17.238938Z",
     "shell.execute_reply": "2022-11-28T06:37:17.238122Z",
     "shell.execute_reply.started": "2022-11-28T06:25:32.182602Z"
    }
   },
   "outputs": [
    {
     "data": {
      "text/html": [
       "\n",
       "    <div>\n",
       "      \n",
       "      <progress value='144' max='144' style='width:300px; height:20px; vertical-align: middle;'></progress>\n",
       "      [144/144 11:39, Epoch 0/1]\n",
       "    </div>\n",
       "    <table border=\"1\" class=\"dataframe\">\n",
       "  <thead>\n",
       "    <tr style=\"text-align: left;\">\n",
       "      <th>Epoch</th>\n",
       "      <th>Training Loss</th>\n",
       "      <th>Validation Loss</th>\n",
       "    </tr>\n",
       "  </thead>\n",
       "  <tbody>\n",
       "    <tr>\n",
       "      <td>0</td>\n",
       "      <td>No log</td>\n",
       "      <td>0.311393</td>\n",
       "    </tr>\n",
       "  </tbody>\n",
       "</table><p>"
      ],
      "text/plain": [
       "<IPython.core.display.HTML object>"
      ]
     },
     "metadata": {},
     "output_type": "display_data"
    },
    {
     "data": {
      "text/plain": [
       "TrainOutput(global_step=144, training_loss=0.309766239590115, metrics={'train_runtime': 704.5005, 'train_samples_per_second': 0.204, 'total_flos': 0, 'epoch': 1.0, 'init_mem_cpu_alloc_delta': -540286976, 'init_mem_gpu_alloc_delta': 2235376640, 'init_mem_cpu_peaked_delta': 1023119360, 'init_mem_gpu_peaked_delta': 0, 'train_mem_cpu_alloc_delta': 64765952, 'train_mem_gpu_alloc_delta': 6733405184, 'train_mem_cpu_peaked_delta': 3086770176, 'train_mem_gpu_peaked_delta': 5504041984})"
      ]
     },
     "execution_count": 57,
     "metadata": {},
     "output_type": "execute_result"
    }
   ],
   "source": [
    "trainer.train()"
   ]
  },
  {
   "cell_type": "code",
   "execution_count": 58,
   "metadata": {
    "execution": {
     "iopub.execute_input": "2022-11-28T06:37:17.241078Z",
     "iopub.status.busy": "2022-11-28T06:37:17.240735Z",
     "iopub.status.idle": "2022-11-28T06:37:28.982406Z",
     "shell.execute_reply": "2022-11-28T06:37:28.981458Z",
     "shell.execute_reply.started": "2022-11-28T06:37:17.241034Z"
    }
   },
   "outputs": [],
   "source": [
    "trainer.save_model(\"bert-trained\")"
   ]
  },
  {
   "cell_type": "code",
   "execution_count": 59,
   "metadata": {
    "execution": {
     "iopub.execute_input": "2022-11-28T06:37:28.984284Z",
     "iopub.status.busy": "2022-11-28T06:37:28.983920Z",
     "iopub.status.idle": "2022-11-28T06:37:28.991654Z",
     "shell.execute_reply": "2022-11-28T06:37:28.990844Z",
     "shell.execute_reply.started": "2022-11-28T06:37:28.984242Z"
    }
   },
   "outputs": [],
   "source": [
    "def prepare_validation_features(examples):\n",
    "    \n",
    "    examples[\"question\"] = [q.lstrip() for q in examples[\"question\"]]\n",
    "\n",
    "   \n",
    "    tokenized_examples = tokenizer(\n",
    "        examples[\"question\" if pad_on_right else \"context\"],\n",
    "        examples[\"context\" if pad_on_right else \"question\"],\n",
    "        truncation=\"only_second\" if pad_on_right else \"only_first\",\n",
    "        max_length=max_length,\n",
    "        stride=doc_stride,\n",
    "        return_overflowing_tokens=True,\n",
    "        return_offsets_mapping=True,\n",
    "        padding=\"max_length\",\n",
    "    )\n",
    "\n",
    "   \n",
    "    sample_mapping = tokenized_examples.pop(\"overflow_to_sample_mapping\")\n",
    "\n",
    "    tokenized_examples[\"example_id\"] = []\n",
    "\n",
    "    for i in range(len(tokenized_examples[\"input_ids\"])):\n",
    "        sequence_ids = tokenized_examples.sequence_ids(i)\n",
    "        context_index = 1 if pad_on_right else 0\n",
    "\n",
    "        sample_index = sample_mapping[i]\n",
    "        tokenized_examples[\"example_id\"].append(examples[\"id\"][sample_index])\n",
    "\n",
    "        tokenized_examples[\"offset_mapping\"][i] = [\n",
    "            (o if sequence_ids[k] == context_index else None)\n",
    "            for k, o in enumerate(tokenized_examples[\"offset_mapping\"][i])\n",
    "        ]\n",
    "\n",
    "    return tokenized_examples"
   ]
  },
  {
   "cell_type": "code",
   "execution_count": 60,
   "metadata": {
    "execution": {
     "iopub.execute_input": "2022-11-28T06:37:28.993328Z",
     "iopub.status.busy": "2022-11-28T06:37:28.992820Z",
     "iopub.status.idle": "2022-11-28T06:37:37.896249Z",
     "shell.execute_reply": "2022-11-28T06:37:37.895467Z",
     "shell.execute_reply.started": "2022-11-28T06:37:28.993290Z"
    }
   },
   "outputs": [
    {
     "data": {
      "application/vnd.jupyter.widget-view+json": {
       "model_id": "609775ac7881430b9fa98026ce5f4e80",
       "version_major": 2,
       "version_minor": 0
      },
      "text/plain": [
       "  0%|          | 0/1 [00:00<?, ?ba/s]"
      ]
     },
     "metadata": {},
     "output_type": "display_data"
    }
   ],
   "source": [
    "validation_features = valid_dataset.map(\n",
    "    prepare_validation_features,\n",
    "    batched=True,\n",
    "    remove_columns=valid_dataset.column_names\n",
    ")"
   ]
  },
  {
   "cell_type": "code",
   "execution_count": 61,
   "metadata": {
    "execution": {
     "iopub.execute_input": "2022-11-28T06:37:37.897899Z",
     "iopub.status.busy": "2022-11-28T06:37:37.897552Z",
     "iopub.status.idle": "2022-11-28T06:37:37.904083Z",
     "shell.execute_reply": "2022-11-28T06:37:37.903008Z",
     "shell.execute_reply.started": "2022-11-28T06:37:37.897860Z"
    }
   },
   "outputs": [
    {
     "data": {
      "text/plain": [
       "883"
      ]
     },
     "execution_count": 61,
     "metadata": {},
     "output_type": "execute_result"
    }
   ],
   "source": [
    "len(validation_features)"
   ]
  },
  {
   "cell_type": "code",
   "execution_count": 62,
   "metadata": {
    "execution": {
     "iopub.execute_input": "2022-11-28T06:37:37.905995Z",
     "iopub.status.busy": "2022-11-28T06:37:37.905587Z",
     "iopub.status.idle": "2022-11-28T06:37:37.915208Z",
     "shell.execute_reply": "2022-11-28T06:37:37.914053Z",
     "shell.execute_reply.started": "2022-11-28T06:37:37.905945Z"
    }
   },
   "outputs": [
    {
     "data": {
      "text/plain": [
       "Dataset({\n",
       "    features: ['attention_mask', 'example_id', 'input_ids', 'offset_mapping'],\n",
       "    num_rows: 883\n",
       "})"
      ]
     },
     "execution_count": 62,
     "metadata": {},
     "output_type": "execute_result"
    }
   ],
   "source": [
    "validation_features"
   ]
  },
  {
   "cell_type": "code",
   "execution_count": 63,
   "metadata": {
    "execution": {
     "iopub.execute_input": "2022-11-28T06:37:37.918535Z",
     "iopub.status.busy": "2022-11-28T06:37:37.918207Z",
     "iopub.status.idle": "2022-11-28T06:37:38.997460Z",
     "shell.execute_reply": "2022-11-28T06:37:38.996672Z",
     "shell.execute_reply.started": "2022-11-28T06:37:37.918502Z"
    }
   },
   "outputs": [
    {
     "data": {
      "application/vnd.jupyter.widget-view+json": {
       "model_id": "dacbf0f9598b45cd83005a83b6bbd182",
       "version_major": 2,
       "version_minor": 0
      },
      "text/plain": [
       "  0%|          | 0/883 [00:00<?, ?ex/s]"
      ]
     },
     "metadata": {},
     "output_type": "display_data"
    },
    {
     "data": {
      "text/plain": [
       "Dataset({\n",
       "    features: ['attention_mask', 'input_ids'],\n",
       "    num_rows: 883\n",
       "})"
      ]
     },
     "execution_count": 63,
     "metadata": {},
     "output_type": "execute_result"
    }
   ],
   "source": [
    "valid_feats_small = validation_features.map(lambda example: example, remove_columns=['example_id', 'offset_mapping'])\n",
    "valid_feats_small"
   ]
  },
  {
   "cell_type": "code",
   "execution_count": 64,
   "metadata": {
    "execution": {
     "iopub.execute_input": "2022-11-28T06:37:38.999270Z",
     "iopub.status.busy": "2022-11-28T06:37:38.998937Z",
     "iopub.status.idle": "2022-11-28T06:38:19.630407Z",
     "shell.execute_reply": "2022-11-28T06:38:19.629579Z",
     "shell.execute_reply.started": "2022-11-28T06:37:38.999235Z"
    }
   },
   "outputs": [
    {
     "data": {
      "text/html": [
       "\n",
       "    <div>\n",
       "      \n",
       "      <progress value='221' max='221' style='width:300px; height:20px; vertical-align: middle;'></progress>\n",
       "      [221/221 00:40]\n",
       "    </div>\n",
       "    "
      ],
      "text/plain": [
       "<IPython.core.display.HTML object>"
      ]
     },
     "metadata": {},
     "output_type": "display_data"
    }
   ],
   "source": [
    "raw_predictions = trainer.predict(valid_feats_small)"
   ]
  },
  {
   "cell_type": "code",
   "execution_count": 66,
   "metadata": {
    "execution": {
     "iopub.execute_input": "2022-11-28T06:38:19.638319Z",
     "iopub.status.busy": "2022-11-28T06:38:19.637812Z",
     "iopub.status.idle": "2022-11-28T06:38:19.647164Z",
     "shell.execute_reply": "2022-11-28T06:38:19.646353Z",
     "shell.execute_reply.started": "2022-11-28T06:38:19.638282Z"
    }
   },
   "outputs": [],
   "source": [
    "max_answer_length = 30"
   ]
  },
  {
   "cell_type": "code",
   "execution_count": 67,
   "metadata": {
    "execution": {
     "iopub.execute_input": "2022-11-28T06:38:19.648590Z",
     "iopub.status.busy": "2022-11-28T06:38:19.648245Z",
     "iopub.status.idle": "2022-11-28T06:38:20.633261Z",
     "shell.execute_reply": "2022-11-28T06:38:20.632412Z",
     "shell.execute_reply.started": "2022-11-28T06:38:19.648548Z"
    }
   },
   "outputs": [],
   "source": [
    "import collections\n",
    "\n",
    "examples = valid_dataset\n",
    "features = validation_features\n",
    "\n",
    "example_id_to_index = {k: i for i, k in enumerate(examples[\"id\"])}\n",
    "features_per_example = collections.defaultdict(list)\n",
    "for i, feature in enumerate(features):\n",
    "    features_per_example[example_id_to_index[feature[\"example_id\"]]].append(i)"
   ]
  },
  {
   "cell_type": "code",
   "execution_count": 68,
   "metadata": {
    "execution": {
     "iopub.execute_input": "2022-11-28T06:38:20.634824Z",
     "iopub.status.busy": "2022-11-28T06:38:20.634503Z",
     "iopub.status.idle": "2022-11-28T06:38:20.646382Z",
     "shell.execute_reply": "2022-11-28T06:38:20.645447Z",
     "shell.execute_reply.started": "2022-11-28T06:38:20.634783Z"
    }
   },
   "outputs": [],
   "source": [
    "from tqdm.auto import tqdm\n",
    "\n",
    "def postprocess_qa_predictions(examples, features, raw_predictions, n_best_size = 20, max_answer_length = 30):\n",
    "    all_start_logits, all_end_logits = raw_predictions\n",
    "    example_id_to_index = {k: i for i, k in enumerate(examples[\"id\"])}\n",
    "    features_per_example = collections.defaultdict(list)\n",
    "    for i, feature in enumerate(features):\n",
    "        features_per_example[example_id_to_index[feature[\"example_id\"]]].append(i)\n",
    "\n",
    "    predictions = collections.OrderedDict()\n",
    "\n",
    "    print(f\"Post-processing {len(examples)} example predictions split into {len(features)} features.\")\n",
    "\n",
    "    for example_index, example in enumerate(tqdm(examples)):\n",
    "        feature_indices = features_per_example[example_index]\n",
    "\n",
    "        min_null_score = None \n",
    "        valid_answers = []\n",
    "        \n",
    "        context = example[\"context\"]\n",
    "        for feature_index in feature_indices:\n",
    "            start_logits = all_start_logits[feature_index]\n",
    "            end_logits = all_end_logits[feature_index]\n",
    "            \n",
    "            offset_mapping = features[feature_index][\"offset_mapping\"]\n",
    "\n",
    "            cls_index = features[feature_index][\"input_ids\"].index(tokenizer.cls_token_id)\n",
    "            feature_null_score = start_logits[cls_index] + end_logits[cls_index]\n",
    "            if min_null_score is None or min_null_score < feature_null_score:\n",
    "                min_null_score = feature_null_score\n",
    "\n",
    "            start_indexes = np.argsort(start_logits)[-1 : -n_best_size - 1 : -1].tolist()\n",
    "            end_indexes = np.argsort(end_logits)[-1 : -n_best_size - 1 : -1].tolist()\n",
    "            for start_index in start_indexes:\n",
    "                for end_index in end_indexes:\n",
    "                    if (\n",
    "                        start_index >= len(offset_mapping)\n",
    "                        or end_index >= len(offset_mapping)\n",
    "                        or offset_mapping[start_index] is None\n",
    "                        or offset_mapping[end_index] is None\n",
    "                    ):\n",
    "                        continue\n",
    "                    if end_index < start_index or end_index - start_index + 1 > max_answer_length:\n",
    "                        continue\n",
    "\n",
    "                    start_char = offset_mapping[start_index][0]\n",
    "                    end_char = offset_mapping[end_index][1]\n",
    "                    valid_answers.append(\n",
    "                        {\n",
    "                            \"score\": start_logits[start_index] + end_logits[end_index],\n",
    "                            \"text\": context[start_char: end_char]\n",
    "                        }\n",
    "                    )\n",
    "        \n",
    "        if len(valid_answers) > 0:\n",
    "            best_answer = sorted(valid_answers, key=lambda x: x[\"score\"], reverse=True)[0]\n",
    "        else:\n",
    "           \n",
    "            best_answer = {\"text\": \"\", \"score\": 0.0}\n",
    "        \n",
    "        predictions[example[\"id\"]] = best_answer[\"text\"]\n",
    "\n",
    "    return predictions"
   ]
  },
  {
   "cell_type": "code",
   "execution_count": 69,
   "metadata": {
    "execution": {
     "iopub.execute_input": "2022-11-28T06:38:20.648406Z",
     "iopub.status.busy": "2022-11-28T06:38:20.647849Z",
     "iopub.status.idle": "2022-11-28T06:38:23.848925Z",
     "shell.execute_reply": "2022-11-28T06:38:23.847997Z",
     "shell.execute_reply.started": "2022-11-28T06:38:20.648370Z"
    }
   },
   "outputs": [
    {
     "name": "stdout",
     "output_type": "stream",
     "text": [
      "Post-processing 64 example predictions split into 883 features.\n"
     ]
    },
    {
     "data": {
      "application/vnd.jupyter.widget-view+json": {
       "model_id": "b7f2d76a820643c2b4fea086c8e6dff0",
       "version_major": 2,
       "version_minor": 0
      },
      "text/plain": [
       "  0%|          | 0/64 [00:00<?, ?it/s]"
      ]
     },
     "metadata": {},
     "output_type": "display_data"
    }
   ],
   "source": [
    "final_predictions = postprocess_qa_predictions(valid_dataset, validation_features, raw_predictions.predictions)"
   ]
  },
  {
   "cell_type": "code",
   "execution_count": 70,
   "metadata": {
    "execution": {
     "iopub.execute_input": "2022-11-28T06:38:23.850738Z",
     "iopub.status.busy": "2022-11-28T06:38:23.850390Z",
     "iopub.status.idle": "2022-11-28T06:38:23.869895Z",
     "shell.execute_reply": "2022-11-28T06:38:23.869210Z",
     "shell.execute_reply.started": "2022-11-28T06:38:23.850700Z"
    }
   },
   "outputs": [],
   "source": [
    "references = [{\"id\": ex[\"id\"], \"answer\": ex[\"answers\"]['text'][0]} for ex in valid_dataset]"
   ]
  },
  {
   "cell_type": "code",
   "execution_count": 71,
   "metadata": {
    "execution": {
     "iopub.execute_input": "2022-11-28T06:38:23.871410Z",
     "iopub.status.busy": "2022-11-28T06:38:23.871059Z",
     "iopub.status.idle": "2022-11-28T06:38:23.876544Z",
     "shell.execute_reply": "2022-11-28T06:38:23.875416Z",
     "shell.execute_reply.started": "2022-11-28T06:38:23.871376Z"
    }
   },
   "outputs": [],
   "source": [
    "def jaccard(row): \n",
    "    str1 = row[0]\n",
    "    str2 = row[1]\n",
    "    a = set(str1.lower().split()) \n",
    "    b = set(str2.lower().split())\n",
    "    c = a.intersection(b)\n",
    "    return float(len(c)) / (len(a) + len(b) - len(c))"
   ]
  },
  {
   "cell_type": "code",
   "execution_count": 72,
   "metadata": {
    "execution": {
     "iopub.execute_input": "2022-11-28T06:38:23.878506Z",
     "iopub.status.busy": "2022-11-28T06:38:23.878124Z",
     "iopub.status.idle": "2022-11-28T06:38:23.885515Z",
     "shell.execute_reply": "2022-11-28T06:38:23.884744Z",
     "shell.execute_reply.started": "2022-11-28T06:38:23.878470Z"
    }
   },
   "outputs": [],
   "source": [
    "# Computing Exact match\n",
    "def compute_exact_match(row):\n",
    "    return int(row['answer'] == row['prediction'])"
   ]
  },
  {
   "cell_type": "code",
   "execution_count": 73,
   "metadata": {
    "execution": {
     "iopub.execute_input": "2022-11-28T06:38:23.887089Z",
     "iopub.status.busy": "2022-11-28T06:38:23.886740Z",
     "iopub.status.idle": "2022-11-28T06:38:23.895325Z",
     "shell.execute_reply": "2022-11-28T06:38:23.894563Z",
     "shell.execute_reply.started": "2022-11-28T06:38:23.887055Z"
    }
   },
   "outputs": [],
   "source": [
    "#computing F1 score\n",
    "def compute_f1(row):\n",
    "    truth = row['answer']\n",
    "    prediction = row['prediction']\n",
    "    pred_tokens = prediction.split()\n",
    "    truth_tokens = truth.split()\n",
    "    \n",
    "   \n",
    "    if len(pred_tokens) == 0 or len(truth_tokens) == 0:\n",
    "        return int(pred_tokens == truth_tokens)\n",
    "    \n",
    "    common_tokens = set(pred_tokens) & set(truth_tokens)\n",
    "    \n",
    "    if len(common_tokens) == 0:\n",
    "        return 0\n",
    "    \n",
    "    prec = len(common_tokens) / len(pred_tokens)\n",
    "    rec = len(common_tokens) / len(truth_tokens)\n",
    "    \n",
    "    return 2 * (prec * rec) / (prec + rec)"
   ]
  },
  {
   "cell_type": "code",
   "execution_count": 74,
   "metadata": {
    "execution": {
     "iopub.execute_input": "2022-11-28T06:38:23.896821Z",
     "iopub.status.busy": "2022-11-28T06:38:23.896482Z",
     "iopub.status.idle": "2022-11-28T06:38:23.932936Z",
     "shell.execute_reply": "2022-11-28T06:38:23.931999Z",
     "shell.execute_reply.started": "2022-11-28T06:38:23.896787Z"
    }
   },
   "outputs": [
    {
     "data": {
      "text/html": [
       "<div>\n",
       "<style scoped>\n",
       "    .dataframe tbody tr th:only-of-type {\n",
       "        vertical-align: middle;\n",
       "    }\n",
       "\n",
       "    .dataframe tbody tr th {\n",
       "        vertical-align: top;\n",
       "    }\n",
       "\n",
       "    .dataframe thead th {\n",
       "        text-align: right;\n",
       "    }\n",
       "</style>\n",
       "<table border=\"1\" class=\"dataframe\">\n",
       "  <thead>\n",
       "    <tr style=\"text-align: right;\">\n",
       "      <th></th>\n",
       "      <th>id</th>\n",
       "      <th>answer</th>\n",
       "      <th>prediction</th>\n",
       "      <th>jaccard</th>\n",
       "      <th>EM</th>\n",
       "      <th>F1</th>\n",
       "    </tr>\n",
       "  </thead>\n",
       "  <tbody>\n",
       "    <tr>\n",
       "      <th>0</th>\n",
       "      <td>8069e0eea</td>\n",
       "      <td>அணு எண் 2</td>\n",
       "      <td>2.</td>\n",
       "      <td>0.000000</td>\n",
       "      <td>0</td>\n",
       "      <td>0.000000</td>\n",
       "    </tr>\n",
       "    <tr>\n",
       "      <th>1</th>\n",
       "      <td>3fe627e15</td>\n",
       "      <td>10,911</td>\n",
       "      <td>4,694 மீட்டர்</td>\n",
       "      <td>0.000000</td>\n",
       "      <td>0</td>\n",
       "      <td>0.000000</td>\n",
       "    </tr>\n",
       "    <tr>\n",
       "      <th>2</th>\n",
       "      <td>f87923d86</td>\n",
       "      <td>கன்று</td>\n",
       "      <td>கன்று</td>\n",
       "      <td>1.000000</td>\n",
       "      <td>0</td>\n",
       "      <td>1.000000</td>\n",
       "    </tr>\n",
       "    <tr>\n",
       "      <th>3</th>\n",
       "      <td>765b2de64</td>\n",
       "      <td>பிப்ரவரி 12, 1809</td>\n",
       "      <td>1809 ஆம் ஆண்டு பிப்ரவரி 12-</td>\n",
       "      <td>0.333333</td>\n",
       "      <td>0</td>\n",
       "      <td>0.500000</td>\n",
       "    </tr>\n",
       "    <tr>\n",
       "      <th>4</th>\n",
       "      <td>7443be1a7</td>\n",
       "      <td>1972</td>\n",
       "      <td>1972</td>\n",
       "      <td>1.000000</td>\n",
       "      <td>0</td>\n",
       "      <td>1.000000</td>\n",
       "    </tr>\n",
       "    <tr>\n",
       "      <th>...</th>\n",
       "      <td>...</td>\n",
       "      <td>...</td>\n",
       "      <td>...</td>\n",
       "      <td>...</td>\n",
       "      <td>...</td>\n",
       "      <td>...</td>\n",
       "    </tr>\n",
       "    <tr>\n",
       "      <th>59</th>\n",
       "      <td>dea207ce0</td>\n",
       "      <td>ஆல்ஃபிரட் நோபல்</td>\n",
       "      <td>ஆல்ஃபிரட் நோபெல்</td>\n",
       "      <td>0.333333</td>\n",
       "      <td>0</td>\n",
       "      <td>0.500000</td>\n",
       "    </tr>\n",
       "    <tr>\n",
       "      <th>60</th>\n",
       "      <td>18576a600</td>\n",
       "      <td>புது தில்லி</td>\n",
       "      <td>புதுதில்லி</td>\n",
       "      <td>0.000000</td>\n",
       "      <td>0</td>\n",
       "      <td>0.000000</td>\n",
       "    </tr>\n",
       "    <tr>\n",
       "      <th>61</th>\n",
       "      <td>767506ee1</td>\n",
       "      <td>. பெங்களூரில்</td>\n",
       "      <td>பெங்களூரில்</td>\n",
       "      <td>0.500000</td>\n",
       "      <td>0</td>\n",
       "      <td>0.666667</td>\n",
       "    </tr>\n",
       "    <tr>\n",
       "      <th>62</th>\n",
       "      <td>c35fe946a</td>\n",
       "      <td>இலங்கையின் கண்டிக்கு அருகேயுள்ள நாவலப்பிட்டியி...</td>\n",
       "      <td>நாவலப்பிட்டி</td>\n",
       "      <td>0.000000</td>\n",
       "      <td>0</td>\n",
       "      <td>0.000000</td>\n",
       "    </tr>\n",
       "    <tr>\n",
       "      <th>63</th>\n",
       "      <td>4fefb1b93</td>\n",
       "      <td>1,453</td>\n",
       "      <td>390 மீ</td>\n",
       "      <td>0.000000</td>\n",
       "      <td>0</td>\n",
       "      <td>0.000000</td>\n",
       "    </tr>\n",
       "  </tbody>\n",
       "</table>\n",
       "<p>64 rows × 6 columns</p>\n",
       "</div>"
      ],
      "text/plain": [
       "           id                                             answer  \\\n",
       "0   8069e0eea                                          அணு எண் 2   \n",
       "1   3fe627e15                                             10,911   \n",
       "2   f87923d86                                              கன்று   \n",
       "3   765b2de64                                  பிப்ரவரி 12, 1809   \n",
       "4   7443be1a7                                               1972   \n",
       "..        ...                                                ...   \n",
       "59  dea207ce0                                    ஆல்ஃபிரட் நோபல்   \n",
       "60  18576a600                                        புது தில்லி   \n",
       "61  767506ee1                                      . பெங்களூரில்   \n",
       "62  c35fe946a  இலங்கையின் கண்டிக்கு அருகேயுள்ள நாவலப்பிட்டியி...   \n",
       "63  4fefb1b93                                              1,453   \n",
       "\n",
       "                      prediction   jaccard  EM        F1  \n",
       "0                             2.  0.000000   0  0.000000  \n",
       "1                  4,694 மீட்டர்  0.000000   0  0.000000  \n",
       "2                          கன்று  1.000000   0  1.000000  \n",
       "3    1809 ஆம் ஆண்டு பிப்ரவரி 12-  0.333333   0  0.500000  \n",
       "4                           1972  1.000000   0  1.000000  \n",
       "..                           ...       ...  ..       ...  \n",
       "59              ஆல்ஃபிரட் நோபெல்  0.333333   0  0.500000  \n",
       "60                    புதுதில்லி  0.000000   0  0.000000  \n",
       "61                   பெங்களூரில்  0.500000   0  0.666667  \n",
       "62                  நாவலப்பிட்டி  0.000000   0  0.000000  \n",
       "63                        390 மீ  0.000000   0  0.000000  \n",
       "\n",
       "[64 rows x 6 columns]"
      ]
     },
     "execution_count": 74,
     "metadata": {},
     "output_type": "execute_result"
    }
   ],
   "source": [
    "res = pd.DataFrame(references)\n",
    "res['prediction'] = res['id'].apply(lambda r: final_predictions[r])\n",
    "res['jaccard'] = res[['answer', 'prediction']].apply(jaccard, axis=1)\n",
    "res ['EM'] = res[['answer', 'prediction']].apply(compute_exact_match, axis=1)\n",
    "res ['F1'] = res[['answer', 'prediction']].apply(compute_f1, axis=1)\n",
    "res"
   ]
  },
  {
   "cell_type": "code",
   "execution_count": 75,
   "metadata": {
    "execution": {
     "iopub.execute_input": "2022-11-28T06:38:23.934907Z",
     "iopub.status.busy": "2022-11-28T06:38:23.934562Z",
     "iopub.status.idle": "2022-11-28T06:38:23.944961Z",
     "shell.execute_reply": "2022-11-28T06:38:23.944116Z",
     "shell.execute_reply.started": "2022-11-28T06:38:23.934867Z"
    }
   },
   "outputs": [
    {
     "name": "stdout",
     "output_type": "stream",
     "text": [
      "F1 Score:  0.5772293244949496\n",
      "Jaccard score:  0.5379807692307692\n",
      "Exact match score:  0.03125\n"
     ]
    }
   ],
   "source": [
    "print('F1 Score: ',res.F1.mean())\n",
    "print('Jaccard score: ',res.jaccard.mean())\n",
    "print('Exact match score: ', res.EM.mean())"
   ]
  }
 ],
 "metadata": {
  "kernelspec": {
   "display_name": "Python 3 (ipykernel)",
   "language": "python",
   "name": "python3"
  },
  "language_info": {
   "codemirror_mode": {
    "name": "ipython",
    "version": 3
   },
   "file_extension": ".py",
   "mimetype": "text/x-python",
   "name": "python",
   "nbconvert_exporter": "python",
   "pygments_lexer": "ipython3",
   "version": "3.8.12"
  },
  "toc": {
   "base_numbering": 1,
   "nav_menu": {},
   "number_sections": true,
   "sideBar": true,
   "skip_h1_title": false,
   "title_cell": "Table of Contents",
   "title_sidebar": "Contents",
   "toc_cell": false,
   "toc_position": {},
   "toc_section_display": true,
   "toc_window_display": false
  }
 },
 "nbformat": 4,
 "nbformat_minor": 4
}
